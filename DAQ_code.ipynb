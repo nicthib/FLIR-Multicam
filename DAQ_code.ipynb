{
 "cells": [
  {
   "cell_type": "code",
   "execution_count": 36,
   "metadata": {},
   "outputs": [],
   "source": [
    "import nidaqmx, numpy as np\n",
    "with nidaqmx.Task() as ai_task, nidaqmx.Task() as ao_task:\n",
    "    rate = 10**4 # sample rate in Hz\n",
    "    duration = 5 # acquisition duration in seconds \n",
    "    npnts = int(rate * duration)\n",
    "    ai_task.ai_channels.add_ai_voltage_chan(physical_channel='/Dev2/ai0', min_val=-10.0, max_val=10.0)\n",
    "    ai_task.ai_channels.add_ai_voltage_chan(physical_channel='/Dev2/ai1',  min_val=-10.0, max_val=10.0)\n",
    "    ao_task.ao_channels.add_ao_voltage_chan('/Dev2/ao0')\n",
    "    ao_task.timing.cfg_samp_clk_timing(rate,\n",
    "                                     sample_mode=nidaqmx.constants.AcquisitionType.FINITE,\n",
    "                                     samps_per_chan=npnts)\n",
    "    ai_task.timing.cfg_samp_clk_timing(rate, \n",
    "                                       sample_mode=nidaqmx.constants.AcquisitionType.FINITE,\n",
    "                                       samps_per_chan=npnts)\n",
    "    \n",
    "    ao_task.write(np.linspace(0, 10, npnts), auto_start=False)\n",
    "    ao_task.start()\n",
    "    ai_task.start()\n",
    "    \n",
    "    ai_task.wait_until_done()\n",
    "    ao_task.wait_until_done()\n",
    "    \n",
    "    data = ai_task.read(number_of_samples_per_channel=npnts)"
   ]
  },
  {
   "cell_type": "code",
   "execution_count": 2,
   "metadata": {},
   "outputs": [
    {
     "ename": "NonBufferedAndHWTimedError",
     "evalue": "Non-buffered hardware-timed operations are not supported for this device and Channel Type.\n\nSet the Buffer Size to greater than 0, do not configure Sample Clock timing, or set Sample Timing Type to On Demand.\nTask Name: _unnamedTask<1>\n\nStatus Code: -201025\n in function DAQmxStartTask",
     "output_type": "error",
     "traceback": [
      "\u001b[1;31m---------------------------------------------------------------------------\u001b[0m",
      "\u001b[1;31mNonBufferedAndHWTimedError\u001b[0m                Traceback (most recent call last)",
      "\u001b[1;32m<ipython-input-2-7e158776c7e1>\u001b[0m in \u001b[0;36m<module>\u001b[1;34m\u001b[0m\n\u001b[0;32m     17\u001b[0m \u001b[1;33m\u001b[0m\u001b[0m\n\u001b[0;32m     18\u001b[0m \u001b[0mt1\u001b[0m\u001b[1;33m.\u001b[0m\u001b[0mStartTask\u001b[0m\u001b[1;33m(\u001b[0m\u001b[1;33m)\u001b[0m\u001b[1;33m\u001b[0m\u001b[1;33m\u001b[0m\u001b[0m\n\u001b[1;32m---> 19\u001b[1;33m \u001b[0mt2\u001b[0m\u001b[1;33m.\u001b[0m\u001b[0mStartTask\u001b[0m\u001b[1;33m(\u001b[0m\u001b[1;33m)\u001b[0m\u001b[1;33m\u001b[0m\u001b[1;33m\u001b[0m\u001b[0m\n\u001b[0m\u001b[0;32m     20\u001b[0m \u001b[0mprint\u001b[0m\u001b[1;33m(\u001b[0m\u001b[0mtime\u001b[0m\u001b[1;33m.\u001b[0m\u001b[0mtime\u001b[0m\u001b[1;33m(\u001b[0m\u001b[1;33m)\u001b[0m\u001b[1;33m)\u001b[0m\u001b[1;33m\u001b[0m\u001b[1;33m\u001b[0m\u001b[0m\n\u001b[0;32m     21\u001b[0m \u001b[0mt2\u001b[0m\u001b[1;33m.\u001b[0m\u001b[0mWriteAnalogF64\u001b[0m\u001b[1;33m(\u001b[0m\u001b[0mlen\u001b[0m\u001b[1;33m(\u001b[0m\u001b[0mstim\u001b[0m\u001b[1;33m)\u001b[0m\u001b[1;33m,\u001b[0m\u001b[1;36m0\u001b[0m\u001b[1;33m,\u001b[0m\u001b[1;36m10.0\u001b[0m\u001b[1;33m,\u001b[0m\u001b[1;36m0\u001b[0m\u001b[1;33m,\u001b[0m\u001b[0mstim\u001b[0m\u001b[1;33m,\u001b[0m\u001b[1;32mNone\u001b[0m\u001b[1;33m,\u001b[0m\u001b[1;32mNone\u001b[0m\u001b[1;33m)\u001b[0m\u001b[1;33m\u001b[0m\u001b[1;33m\u001b[0m\u001b[0m\n",
      "\u001b[1;32mc:\\users\\wfom2\\appdata\\local\\programs\\python\\python36\\lib\\site-packages\\PyDAQmx\\Task.py\u001b[0m in \u001b[0;36mStartTask\u001b[1;34m(self)\u001b[0m\n",
      "\u001b[1;32mc:\\users\\wfom2\\appdata\\local\\programs\\python\\python36\\lib\\site-packages\\PyDAQmx\\DAQmxFunctions.py\u001b[0m in \u001b[0;36mfunction\u001b[1;34m(taskHandle)\u001b[0m\n",
      "\u001b[1;32mc:\\users\\wfom2\\appdata\\local\\programs\\python\\python36\\lib\\site-packages\\PyDAQmx\\DAQmxFunctions.py\u001b[0m in \u001b[0;36mmafunction\u001b[1;34m(*arg)\u001b[0m\n\u001b[0;32m     60\u001b[0m             \u001b[0mDAQmxGetExtendedErrorInfo\u001b[0m\u001b[1;33m(\u001b[0m\u001b[0merrBuff\u001b[0m\u001b[1;33m,\u001b[0m\u001b[1;36m2048\u001b[0m\u001b[1;33m)\u001b[0m\u001b[1;33m\u001b[0m\u001b[1;33m\u001b[0m\u001b[0m\n\u001b[0;32m     61\u001b[0m             \u001b[0mexception_class\u001b[0m \u001b[1;33m=\u001b[0m \u001b[0merror_by_number\u001b[0m\u001b[1;33m.\u001b[0m\u001b[0mget\u001b[0m\u001b[1;33m(\u001b[0m\u001b[0merror\u001b[0m\u001b[1;33m,\u001b[0m \u001b[0mDAQError\u001b[0m\u001b[1;33m)\u001b[0m\u001b[1;33m\u001b[0m\u001b[1;33m\u001b[0m\u001b[0m\n\u001b[1;32m---> 62\u001b[1;33m             \u001b[1;32mraise\u001b[0m \u001b[0mexception_class\u001b[0m\u001b[1;33m(\u001b[0m\u001b[0merrBuff\u001b[0m\u001b[1;33m.\u001b[0m\u001b[0mvalue\u001b[0m\u001b[1;33m.\u001b[0m\u001b[0mdecode\u001b[0m\u001b[1;33m(\u001b[0m\u001b[1;34m\"utf-8\"\u001b[0m\u001b[1;33m)\u001b[0m\u001b[1;33m,\u001b[0m \u001b[0mf\u001b[0m\u001b[1;33m.\u001b[0m\u001b[0m__name__\u001b[0m\u001b[1;33m)\u001b[0m\u001b[1;33m\u001b[0m\u001b[1;33m\u001b[0m\u001b[0m\n\u001b[0m\u001b[0;32m     63\u001b[0m         \u001b[1;32melif\u001b[0m \u001b[0merror\u001b[0m\u001b[1;33m>\u001b[0m\u001b[1;36m0\u001b[0m\u001b[1;33m:\u001b[0m\u001b[1;33m\u001b[0m\u001b[1;33m\u001b[0m\u001b[0m\n\u001b[0;32m     64\u001b[0m             \u001b[0merrBuff\u001b[0m \u001b[1;33m=\u001b[0m \u001b[0mcreate_string_buffer\u001b[0m\u001b[1;33m(\u001b[0m\u001b[1;36m2048\u001b[0m\u001b[1;33m)\u001b[0m\u001b[1;33m\u001b[0m\u001b[1;33m\u001b[0m\u001b[0m\n",
      "\u001b[1;31mNonBufferedAndHWTimedError\u001b[0m: Non-buffered hardware-timed operations are not supported for this device and Channel Type.\n\nSet the Buffer Size to greater than 0, do not configure Sample Clock timing, or set Sample Timing Type to On Demand.\nTask Name: _unnamedTask<1>\n\nStatus Code: -201025\n in function DAQmxStartTask"
     ]
    }
   ],
   "source": [
    "# DAQ code WIP\n",
    "import PyDAQmx as nidaq, numpy as np, time\n",
    "from scipy import signal\n",
    "runlength = 20\n",
    "fs = 1000\n",
    "nchans = 2\n",
    "t = np.linspace(0, runlength, runlength*fs, endpoint=False)\n",
    "stim = signal.square(2 * np.pi * t)\n",
    "t1 = nidaq.Task()\n",
    "t1.CreateAIVoltageChan(\"Dev2/ai0\", None, nidaq.DAQmx_Val_Diff, -10, 10, nidaq.DAQmx_Val_Volts, None) # Whisker stim IN\n",
    "t1.CreateAIVoltageChan(\"Dev2/ai1\", None, nidaq.DAQmx_Val_Diff, -10, 10, nidaq.DAQmx_Val_Volts, None) # LED Strobe\n",
    "t2 = nidaq.Task()\n",
    "t2.CreateAOVoltageChan(\"Dev2/ao1\", None, -10, 10, nidaq.DAQmx_Val_Volts, None) # Whisker stim OUT\n",
    "t1.CfgSampClkTiming(\"\", fs, nidaq.DAQmx_Val_Rising, nidaq.DAQmx_Val_FiniteSamps, fs*runlength*nchans)\n",
    "t2.CfgSampClkTiming(\"\", fs, nidaq.DAQmx_Val_Rising, nidaq.DAQmx_Val_FiniteSamps, fs*runlength*nchans)\n",
    "#t2.WriteAnalogScalarF64(1,10.0,1,None)\n",
    "\n",
    "t1.StartTask()\n",
    "t2.StartTask()\n",
    "print(time.time())\n",
    "t2.WriteAnalogF64(len(stim),0,10.0,0,stim,None,None)\n",
    "print(time.time())\n"
   ]
  },
  {
   "cell_type": "code",
   "execution_count": 1,
   "metadata": {},
   "outputs": [
    {
     "ename": "NameError",
     "evalue": "name 'fs' is not defined",
     "output_type": "error",
     "traceback": [
      "\u001b[1;31m---------------------------------------------------------------------------\u001b[0m",
      "\u001b[1;31mNameError\u001b[0m                                 Traceback (most recent call last)",
      "\u001b[1;32m<ipython-input-1-ef65d314ca5b>\u001b[0m in \u001b[0;36m<module>\u001b[1;34m\u001b[0m\n\u001b[0;32m      1\u001b[0m \u001b[1;32mimport\u001b[0m \u001b[0mnumpy\u001b[0m \u001b[1;32mas\u001b[0m \u001b[0mnp\u001b[0m\u001b[1;33m\u001b[0m\u001b[1;33m\u001b[0m\u001b[0m\n\u001b[1;32m----> 2\u001b[1;33m \u001b[0mdata\u001b[0m \u001b[1;33m=\u001b[0m \u001b[0mnp\u001b[0m\u001b[1;33m.\u001b[0m\u001b[0mzeros\u001b[0m\u001b[1;33m(\u001b[0m\u001b[1;33m(\u001b[0m\u001b[0mfs\u001b[0m\u001b[1;33m*\u001b[0m\u001b[0mrunlength\u001b[0m\u001b[1;33m*\u001b[0m\u001b[0mnchans\u001b[0m\u001b[1;33m)\u001b[0m\u001b[1;33m,\u001b[0m \u001b[0mdtype\u001b[0m\u001b[1;33m=\u001b[0m\u001b[0mnp\u001b[0m\u001b[1;33m.\u001b[0m\u001b[0mfloat64\u001b[0m\u001b[1;33m)\u001b[0m\u001b[1;33m\u001b[0m\u001b[1;33m\u001b[0m\u001b[0m\n\u001b[0m\u001b[0;32m      3\u001b[0m \u001b[0mread\u001b[0m \u001b[1;33m=\u001b[0m \u001b[0mnidaq\u001b[0m\u001b[1;33m.\u001b[0m\u001b[0mint32\u001b[0m\u001b[1;33m(\u001b[0m\u001b[1;33m)\u001b[0m\u001b[1;33m\u001b[0m\u001b[1;33m\u001b[0m\u001b[0m\n\u001b[0;32m      4\u001b[0m t1.ReadAnalogF64(fs*runlength, 5, nidaq.DAQmx_Val_GroupByChannel,\n\u001b[0;32m      5\u001b[0m    data, len(data)*nchans, nidaq.byref(read), None)\n",
      "\u001b[1;31mNameError\u001b[0m: name 'fs' is not defined"
     ]
    }
   ],
   "source": [
    "import numpy as np\n",
    "data = np.zeros((fs*runlength*nchans), dtype=np.float64)\n",
    "read = nidaq.int32()\n",
    "t1.ReadAnalogF64(fs*runlength, 5, nidaq.DAQmx_Val_GroupByChannel,\n",
    "   data, len(data)*nchans, nidaq.byref(read), None)"
   ]
  },
  {
   "cell_type": "code",
   "execution_count": 37,
   "metadata": {
    "scrolled": true
   },
   "outputs": [
    {
     "data": {
      "image/png": "[encoded data removed]",
      "text/plain": [
       "<Figure size 432x288 with 1 Axes>"
      ]
     },
     "metadata": {
      "needs_background": "light"
     },
     "output_type": "display_data"
    }
   ],
   "source": [
    "# Plot AI channels\n",
    "DAQdata = np.asarray(data)\n",
    "import scipy.io as sio\n",
    "%matplotlib inline\n",
    "import matplotlib.pyplot as plt\n",
    "plt.plot(DAQdata[0,:])\n",
    "plt.show()"
   ]
  },
  {
   "cell_type": "code",
   "execution_count": 18,
   "metadata": {},
   "outputs": [],
   "source": [
    "sio.savemat(filename+'_DAQ.mat', {'DAQdata': DAQdata})"
   ]
  },
  {
   "cell_type": "code",
   "execution_count": 29,
   "metadata": {},
   "outputs": [
    {
     "data": {
      "text/plain": [
       "-1"
      ]
     },
     "execution_count": 29,
     "metadata": {},
     "output_type": "execute_result"
    }
   ],
   "source": [
    "nidaqmx.constants.DEFAULT"
   ]
  },
  {
   "cell_type": "code",
   "execution_count": null,
   "metadata": {},
   "outputs": [],
   "source": []
  }
 ],
 "metadata": {
  "kernelspec": {
   "display_name": "Python 3",
   "language": "python",
   "name": "python3"
  },
  "language_info": {
   "codemirror_mode": {
    "name": "ipython",
    "version": 3
   },
   "file_extension": ".py",
   "mimetype": "text/x-python",
   "name": "python",
   "nbconvert_exporter": "python",
   "pygments_lexer": "ipython3",
   "version": "3.6.8"
  }
 },
 "nbformat": 4,
 "nbformat_minor": 2
}
