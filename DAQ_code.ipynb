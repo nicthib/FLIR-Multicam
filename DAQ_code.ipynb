{
 "cells": [
  {
   "cell_type": "code",
   "execution_count": 18,
   "metadata": {},
   "outputs": [],
   "source": [
    "import nidaqmx, numpy as np\n",
    "with nidaqmx.Task() as ai_task, nidaqmx.Task() as ao_task:\n",
    "    fs = int(10**4) # sample rate in Hz\n",
    "    duration = 5 # acquisition duration in seconds \n",
    "    npnts = int(rate * duration)\n",
    "    ai_task.ai_channels.add_ai_voltage_chan(physical_channel='/Dev2/ai0', min_val=-10.0, max_val=10.0)\n",
    "    ai_task.ai_channels.add_ai_voltage_chan(physical_channel='/Dev2/ai1',  min_val=-10.0, max_val=10.0)\n",
    "    ao_task.ao_channels.add_ao_voltage_chan('/Dev2/ao0')\n",
    "    ao_task.timing.cfg_samp_clk_timing(rate,\n",
    "                                     sample_mode=nidaqmx.constants.AcquisitionType.FINITE,\n",
    "                                     samps_per_chan=npnts)\n",
    "    ai_task.timing.cfg_samp_clk_timing(rate, \n",
    "                                       sample_mode=nidaqmx.constants.AcquisitionType.FINITE,\n",
    "                                       samps_per_chan=npnts)\n",
    "    \n",
    "    ao_task.write(np.linspace(0, 10, npnts), auto_start=False)\n",
    "    ao_task.start()\n",
    "    ai_task.start()\n",
    "    \n",
    "    ai_task.wait_until_done()\n",
    "    ao_task.wait_until_done()\n",
    "    \n",
    "    data = ai_task.read(number_of_samples_per_channel=npnts)"
   ]
  },
  {
   "cell_type": "code",
   "execution_count": 23,
   "metadata": {
    "scrolled": true
   },
   "outputs": [
    {
     "data": {
      "image/png": "[encoded data removed]",
      "text/plain": [
       "<Figure size 432x288 with 1 Axes>"
      ]
     },
     "metadata": {
      "needs_background": "light"
     },
     "output_type": "display_data"
    }
   ],
   "source": [
    "# Plot AI channels\n",
    "DAQdata = np.asarray(data)\n",
    "import scipy.io as sio\n",
    "%matplotlib inline\n",
    "import matplotlib.pyplot as plt\n",
    "t = np.linspace(0, .5, num=fs//2)\n",
    "plt.plot(t,np.transpose(DAQdata[:,0:fs//2]))\n",
    "plt.show()"
   ]
  },
  {
   "cell_type": "code",
   "execution_count": 18,
   "metadata": {},
   "outputs": [],
   "source": [
    "sio.savemat(filename+'_DAQ.mat', {'DAQdata': DAQdata})"
   ]
  },
  {
   "cell_type": "code",
   "execution_count": 22,
   "metadata": {},
   "outputs": [
    {
     "data": {
      "text/plain": [
       "1"
      ]
     },
     "execution_count": 22,
     "metadata": {},
     "output_type": "execute_result"
    }
   ],
   "source": [
    "3//2"
   ]
  },
  {
   "cell_type": "code",
   "execution_count": null,
   "metadata": {},
   "outputs": [],
   "source": []
  }
 ],
 "metadata": {
  "kernelspec": {
   "display_name": "Python 3",
   "language": "python",
   "name": "python3"
  },
  "language_info": {
   "codemirror_mode": {
    "name": "ipython",
    "version": 3
   },
   "file_extension": ".py",
   "mimetype": "text/x-python",
   "name": "python",
   "nbconvert_exporter": "python",
   "pygments_lexer": "ipython3",
   "version": "3.6.8"
  }
 },
 "nbformat": 4,
 "nbformat_minor": 2
}
