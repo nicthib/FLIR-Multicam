{
 "cells": [
  {
   "cell_type": "code",
   "execution_count": null,
   "metadata": {},
   "outputs": [],
   "source": [
    "# DAQ code WIP\n",
    "import PyDAQmx as nidaq, numpy as np, time\n",
    "from scipy import signal\n",
    "runlength = 60\n",
    "fs = 1000\n",
    "nchans = 2\n",
    "t = np.linspace(0, runlength, runlength*fs, endpoint=False)\n",
    "stim = signal.square(2 * np.pi * t)\n",
    "t1 = nidaq.Task()\n",
    "t1.CreateAIVoltageChan(\"Dev2/ai0\", None, nidaq.DAQmx_Val_Diff, -10, 10, nidaq.DAQmx_Val_Volts, None) # Whisker stim IN\n",
    "t1.CreateAIVoltageChan(\"Dev2/ai1\", None, nidaq.DAQmx_Val_Diff, -10, 10, nidaq.DAQmx_Val_Volts, None) # LED Strobe\n",
    "t2 = nidaq.Task()\n",
    "t2.CreateAOVoltageChan(\"Dev2/ao0\", None, -10, 10, nidaq.DAQmx_Val_Volts, None) # Whisker stim OUT\n",
    "\n",
    "t1.CfgSampClkTiming(\"\", fs, nidaq.DAQmx_Val_Rising, nidaq.DAQmx_Val_FiniteSamps, fs*runlength*nchans)\n",
    "t1.StartTask()\n",
    "t2.StartTask()\n",
    "print(time.time())\n",
    "t2.WriteAnalogF64(len(stim),\n",
    "                  0,\n",
    "                  10.0,\n",
    "                  0,\n",
    "                  stim,\n",
    "                  None,\n",
    "                  None)\n",
    "print(time.time())\n"
   ]
  },
  {
   "cell_type": "code",
   "execution_count": null,
   "metadata": {},
   "outputs": [],
   "source": [
    "import numpy as np\n",
    "data = np.zeros((fs*runlength*nchans), dtype=np.float64)\n",
    "read = nidaq.int32()\n",
    "t1.ReadAnalogF64(fs*runlength, 5, nidaq.DAQmx_Val_GroupByChannel,\n",
    "   data, len(data)*nchans, nidaq.byref(read), None)"
   ]
  },
  {
   "cell_type": "code",
   "execution_count": null,
   "metadata": {},
   "outputs": [],
   "source": [
    "# Plot AI channels\n",
    "%matplotlib inline\n",
    "import matplotlib.pyplot as plt\n",
    "i = 1\n",
    "plt.plot(data[fs*runlength*i:fs*runlength*(i+1)],label = 'AI'+str(i))\n",
    "    \n",
    "plt.legend()\n",
    "plt.show()"
   ]
  }
 ],
 "metadata": {
  "kernelspec": {
   "display_name": "Python 3",
   "language": "python",
   "name": "python3"
  },
  "language_info": {
   "codemirror_mode": {
    "name": "ipython",
    "version": 3
   },
   "file_extension": ".py",
   "mimetype": "text/x-python",
   "name": "python",
   "nbconvert_exporter": "python",
   "pygments_lexer": "ipython3",
   "version": "3.6.8"
  }
 },
 "nbformat": 4,
 "nbformat_minor": 2
}
